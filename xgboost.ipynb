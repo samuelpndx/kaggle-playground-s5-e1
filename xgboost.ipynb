{
 "cells": [
  {
   "cell_type": "code",
   "execution_count": 1,
   "id": "82fced32",
   "metadata": {
    "_cell_guid": "b1076dfc-b9ad-4769-8c92-a6c4dae69d19",
    "_uuid": "8f2839f25d086af736a60e9eeb907d3b93b6e0e5",
    "execution": {
     "iopub.execute_input": "2025-01-19T19:25:00.423120Z",
     "iopub.status.busy": "2025-01-19T19:25:00.422784Z",
     "iopub.status.idle": "2025-01-19T19:25:01.367730Z",
     "shell.execute_reply": "2025-01-19T19:25:01.366550Z"
    },
    "papermill": {
     "duration": 0.952095,
     "end_time": "2025-01-19T19:25:01.369370",
     "exception": false,
     "start_time": "2025-01-19T19:25:00.417275",
     "status": "completed"
    },
    "tags": []
   },
   "outputs": [
    {
     "name": "stdout",
     "output_type": "stream",
     "text": [
      "/kaggle/input/playground-series-s5e1/sample_submission.csv\n",
      "/kaggle/input/playground-series-s5e1/train.csv\n",
      "/kaggle/input/playground-series-s5e1/test.csv\n"
     ]
    }
   ],
   "source": [
    "# This Python 3 environment comes with many helpful analytics libraries installed\n",
    "# It is defined by the kaggle/python Docker image: https://github.com/kaggle/docker-python\n",
    "# For example, here's several helpful packages to load\n",
    "\n",
    "import numpy as np # linear algebra\n",
    "import pandas as pd # data processing, CSV file I/O (e.g. pd.read_csv)\n",
    "\n",
    "# Input data files are available in the read-only \"../input/\" directory\n",
    "# For example, running this (by clicking run or pressing Shift+Enter) will list all files under the input directory\n",
    "\n",
    "import os\n",
    "for dirname, _, filenames in os.walk('/kaggle/input'):\n",
    "    for filename in filenames:\n",
    "        print(os.path.join(dirname, filename))\n",
    "\n",
    "# You can write up to 20GB to the current directory (/kaggle/working/) that gets preserved as output when you create a version using \"Save & Run All\" \n",
    "# You can also write temporary files to /kaggle/temp/, but they won't be saved outside of the current session"
   ]
  },
  {
   "cell_type": "code",
   "execution_count": 2,
   "id": "6ba1ecc8",
   "metadata": {
    "execution": {
     "iopub.execute_input": "2025-01-19T19:25:01.378185Z",
     "iopub.status.busy": "2025-01-19T19:25:01.377744Z",
     "iopub.status.idle": "2025-01-19T19:25:03.074775Z",
     "shell.execute_reply": "2025-01-19T19:25:03.073797Z"
    },
    "papermill": {
     "duration": 1.703175,
     "end_time": "2025-01-19T19:25:03.076593",
     "exception": false,
     "start_time": "2025-01-19T19:25:01.373418",
     "status": "completed"
    },
    "tags": []
   },
   "outputs": [],
   "source": [
    "from sklearn.model_selection import train_test_split\n",
    "from xgboost import XGBRegressor\n",
    "from sklearn.metrics import mean_absolute_percentage_error"
   ]
  },
  {
   "cell_type": "code",
   "execution_count": 3,
   "id": "d80338ff",
   "metadata": {
    "execution": {
     "iopub.execute_input": "2025-01-19T19:25:03.084963Z",
     "iopub.status.busy": "2025-01-19T19:25:03.084495Z",
     "iopub.status.idle": "2025-01-19T19:25:03.709137Z",
     "shell.execute_reply": "2025-01-19T19:25:03.708093Z"
    },
    "papermill": {
     "duration": 0.630854,
     "end_time": "2025-01-19T19:25:03.711139",
     "exception": false,
     "start_time": "2025-01-19T19:25:03.080285",
     "status": "completed"
    },
    "tags": []
   },
   "outputs": [],
   "source": [
    "train = pd.read_csv('/kaggle/input/playground-series-s5e1/train.csv', na_values='nan')\n",
    "test = pd.read_csv('/kaggle/input/playground-series-s5e1/test.csv', na_values='nan')\n",
    "sub = pd.read_csv('/kaggle/input/playground-series-s5e1/sample_submission.csv')"
   ]
  },
  {
   "cell_type": "code",
   "execution_count": 4,
   "id": "995d2a45",
   "metadata": {
    "execution": {
     "iopub.execute_input": "2025-01-19T19:25:03.719831Z",
     "iopub.status.busy": "2025-01-19T19:25:03.719491Z",
     "iopub.status.idle": "2025-01-19T19:25:03.885469Z",
     "shell.execute_reply": "2025-01-19T19:25:03.884344Z"
    },
    "papermill": {
     "duration": 0.17252,
     "end_time": "2025-01-19T19:25:03.887472",
     "exception": false,
     "start_time": "2025-01-19T19:25:03.714952",
     "status": "completed"
    },
    "tags": []
   },
   "outputs": [],
   "source": [
    "#time to julian date\n",
    "#train\n",
    "train.date = pd.to_datetime(train['date'])\n",
    "train['date'] = pd.DatetimeIndex(train['date']).to_julian_date()\n",
    "\n",
    "#test\n",
    "test.date = pd.to_datetime(test['date'])\n",
    "test['date'] = pd.DatetimeIndex(test['date']).to_julian_date()"
   ]
  },
  {
   "cell_type": "code",
   "execution_count": 5,
   "id": "e78fdba1",
   "metadata": {
    "execution": {
     "iopub.execute_input": "2025-01-19T19:25:03.896219Z",
     "iopub.status.busy": "2025-01-19T19:25:03.895900Z",
     "iopub.status.idle": "2025-01-19T19:25:03.900535Z",
     "shell.execute_reply": "2025-01-19T19:25:03.899628Z"
    },
    "papermill": {
     "duration": 0.010665,
     "end_time": "2025-01-19T19:25:03.902039",
     "exception": false,
     "start_time": "2025-01-19T19:25:03.891374",
     "status": "completed"
    },
    "tags": []
   },
   "outputs": [],
   "source": [
    "def convert_cat(df, cat):\n",
    "    for cat in cat:\n",
    "        df[cat] = df[cat].astype('category')"
   ]
  },
  {
   "cell_type": "code",
   "execution_count": 6,
   "id": "974ffcb5",
   "metadata": {
    "execution": {
     "iopub.execute_input": "2025-01-19T19:25:03.910552Z",
     "iopub.status.busy": "2025-01-19T19:25:03.910163Z",
     "iopub.status.idle": "2025-01-19T19:25:03.984062Z",
     "shell.execute_reply": "2025-01-19T19:25:03.982891Z"
    },
    "papermill": {
     "duration": 0.080274,
     "end_time": "2025-01-19T19:25:03.986050",
     "exception": false,
     "start_time": "2025-01-19T19:25:03.905776",
     "status": "completed"
    },
    "tags": []
   },
   "outputs": [],
   "source": [
    "cat = ['country', 'store', 'product']\n",
    "convert_cat(train, cat)\n",
    "convert_cat(test, cat)"
   ]
  },
  {
   "cell_type": "code",
   "execution_count": 7,
   "id": "9f3cea81",
   "metadata": {
    "execution": {
     "iopub.execute_input": "2025-01-19T19:25:03.994640Z",
     "iopub.status.busy": "2025-01-19T19:25:03.994235Z",
     "iopub.status.idle": "2025-01-19T19:25:04.010430Z",
     "shell.execute_reply": "2025-01-19T19:25:04.009207Z"
    },
    "papermill": {
     "duration": 0.022523,
     "end_time": "2025-01-19T19:25:04.012330",
     "exception": false,
     "start_time": "2025-01-19T19:25:03.989807",
     "status": "completed"
    },
    "tags": []
   },
   "outputs": [],
   "source": [
    "train.dropna(inplace=True)"
   ]
  },
  {
   "cell_type": "code",
   "execution_count": 8,
   "id": "2e82400a",
   "metadata": {
    "execution": {
     "iopub.execute_input": "2025-01-19T19:25:04.020756Z",
     "iopub.status.busy": "2025-01-19T19:25:04.020377Z",
     "iopub.status.idle": "2025-01-19T19:25:04.036440Z",
     "shell.execute_reply": "2025-01-19T19:25:04.035406Z"
    },
    "papermill": {
     "duration": 0.022196,
     "end_time": "2025-01-19T19:25:04.038310",
     "exception": false,
     "start_time": "2025-01-19T19:25:04.016114",
     "status": "completed"
    },
    "tags": []
   },
   "outputs": [],
   "source": [
    "X = train.drop(['id', 'num_sold'], axis=1)\n",
    "y = np.log1p(train['num_sold'])\n",
    "test = test.drop('id', axis=1)"
   ]
  },
  {
   "cell_type": "code",
   "execution_count": 9,
   "id": "643e80c0",
   "metadata": {
    "execution": {
     "iopub.execute_input": "2025-01-19T19:25:04.047166Z",
     "iopub.status.busy": "2025-01-19T19:25:04.046783Z",
     "iopub.status.idle": "2025-01-19T19:25:04.070975Z",
     "shell.execute_reply": "2025-01-19T19:25:04.069976Z"
    },
    "papermill": {
     "duration": 0.03073,
     "end_time": "2025-01-19T19:25:04.072927",
     "exception": false,
     "start_time": "2025-01-19T19:25:04.042197",
     "status": "completed"
    },
    "tags": []
   },
   "outputs": [],
   "source": [
    "X_train, X_test, y_train, y_test = train_test_split(X, y, test_size=0.2, random_state=96)"
   ]
  },
  {
   "cell_type": "code",
   "execution_count": 10,
   "id": "d981d22f",
   "metadata": {
    "execution": {
     "iopub.execute_input": "2025-01-19T19:25:04.081728Z",
     "iopub.status.busy": "2025-01-19T19:25:04.081377Z",
     "iopub.status.idle": "2025-01-19T19:25:06.092686Z",
     "shell.execute_reply": "2025-01-19T19:25:06.091892Z"
    },
    "papermill": {
     "duration": 2.017779,
     "end_time": "2025-01-19T19:25:06.094565",
     "exception": false,
     "start_time": "2025-01-19T19:25:04.076786",
     "status": "completed"
    },
    "tags": []
   },
   "outputs": [
    {
     "name": "stdout",
     "output_type": "stream",
     "text": [
      "[0]\tvalidation_0-rmse:1.06977\n",
      "[1]\tvalidation_0-rmse:0.76082\n",
      "[2]\tvalidation_0-rmse:0.54777\n",
      "[3]\tvalidation_0-rmse:0.40294\n",
      "[4]\tvalidation_0-rmse:0.30570\n",
      "[5]\tvalidation_0-rmse:0.24104\n",
      "[6]\tvalidation_0-rmse:0.19987\n",
      "[7]\tvalidation_0-rmse:0.17383\n",
      "[8]\tvalidation_0-rmse:0.15914\n",
      "[9]\tvalidation_0-rmse:0.14987\n",
      "[10]\tvalidation_0-rmse:0.14411\n",
      "[11]\tvalidation_0-rmse:0.14090\n",
      "[12]\tvalidation_0-rmse:0.13796\n",
      "[13]\tvalidation_0-rmse:0.13528\n",
      "[14]\tvalidation_0-rmse:0.13409\n",
      "[15]\tvalidation_0-rmse:0.13221\n",
      "[16]\tvalidation_0-rmse:0.13145\n",
      "[17]\tvalidation_0-rmse:0.13027\n",
      "[18]\tvalidation_0-rmse:0.12959\n",
      "[19]\tvalidation_0-rmse:0.12720\n",
      "[20]\tvalidation_0-rmse:0.12583\n",
      "[21]\tvalidation_0-rmse:0.12530\n",
      "[22]\tvalidation_0-rmse:0.12334\n",
      "[23]\tvalidation_0-rmse:0.12232\n",
      "[24]\tvalidation_0-rmse:0.12061\n",
      "[25]\tvalidation_0-rmse:0.11943\n",
      "[26]\tvalidation_0-rmse:0.11851\n",
      "[27]\tvalidation_0-rmse:0.11836\n",
      "[28]\tvalidation_0-rmse:0.11802\n",
      "[29]\tvalidation_0-rmse:0.11560\n",
      "[30]\tvalidation_0-rmse:0.11476\n",
      "[31]\tvalidation_0-rmse:0.11279\n",
      "[32]\tvalidation_0-rmse:0.10919\n",
      "[33]\tvalidation_0-rmse:0.10895\n",
      "[34]\tvalidation_0-rmse:0.10821\n",
      "[35]\tvalidation_0-rmse:0.10812\n",
      "[36]\tvalidation_0-rmse:0.10755\n",
      "[37]\tvalidation_0-rmse:0.10640\n",
      "[38]\tvalidation_0-rmse:0.10626\n",
      "[39]\tvalidation_0-rmse:0.10538\n",
      "[40]\tvalidation_0-rmse:0.10505\n",
      "[41]\tvalidation_0-rmse:0.10458\n",
      "[42]\tvalidation_0-rmse:0.10454\n",
      "[43]\tvalidation_0-rmse:0.10450\n",
      "[44]\tvalidation_0-rmse:0.10429\n",
      "[45]\tvalidation_0-rmse:0.10428\n",
      "[46]\tvalidation_0-rmse:0.10393\n",
      "[47]\tvalidation_0-rmse:0.10327\n",
      "[48]\tvalidation_0-rmse:0.10300\n",
      "[49]\tvalidation_0-rmse:0.10223\n",
      "[50]\tvalidation_0-rmse:0.10144\n",
      "[51]\tvalidation_0-rmse:0.10084\n",
      "[52]\tvalidation_0-rmse:0.10041\n",
      "[53]\tvalidation_0-rmse:0.10011\n",
      "[54]\tvalidation_0-rmse:0.10004\n",
      "[55]\tvalidation_0-rmse:0.09996\n",
      "[56]\tvalidation_0-rmse:0.09980\n",
      "[57]\tvalidation_0-rmse:0.09960\n",
      "[58]\tvalidation_0-rmse:0.09944\n",
      "[59]\tvalidation_0-rmse:0.09935\n",
      "[60]\tvalidation_0-rmse:0.09919\n",
      "[61]\tvalidation_0-rmse:0.09912\n",
      "[62]\tvalidation_0-rmse:0.09898\n",
      "[63]\tvalidation_0-rmse:0.09895\n",
      "[64]\tvalidation_0-rmse:0.09879\n",
      "[65]\tvalidation_0-rmse:0.09878\n",
      "[66]\tvalidation_0-rmse:0.09876\n",
      "[67]\tvalidation_0-rmse:0.09867\n",
      "[68]\tvalidation_0-rmse:0.09860\n",
      "[69]\tvalidation_0-rmse:0.09855\n",
      "[70]\tvalidation_0-rmse:0.09854\n",
      "[71]\tvalidation_0-rmse:0.09848\n",
      "[72]\tvalidation_0-rmse:0.09839\n",
      "[73]\tvalidation_0-rmse:0.09832\n",
      "[74]\tvalidation_0-rmse:0.09825\n",
      "[75]\tvalidation_0-rmse:0.09824\n",
      "[76]\tvalidation_0-rmse:0.09819\n",
      "[77]\tvalidation_0-rmse:0.09817\n",
      "[78]\tvalidation_0-rmse:0.09814\n",
      "[79]\tvalidation_0-rmse:0.09811\n",
      "[80]\tvalidation_0-rmse:0.09808\n",
      "[81]\tvalidation_0-rmse:0.09797\n",
      "[82]\tvalidation_0-rmse:0.09789\n",
      "[83]\tvalidation_0-rmse:0.09786\n",
      "[84]\tvalidation_0-rmse:0.09780\n",
      "[85]\tvalidation_0-rmse:0.09779\n",
      "[86]\tvalidation_0-rmse:0.09775\n",
      "[87]\tvalidation_0-rmse:0.09772\n",
      "[88]\tvalidation_0-rmse:0.09768\n",
      "[89]\tvalidation_0-rmse:0.09768\n",
      "[90]\tvalidation_0-rmse:0.09767\n",
      "[91]\tvalidation_0-rmse:0.09763\n",
      "[92]\tvalidation_0-rmse:0.09763\n",
      "[93]\tvalidation_0-rmse:0.09758\n",
      "[94]\tvalidation_0-rmse:0.09756\n",
      "[95]\tvalidation_0-rmse:0.09754\n",
      "[96]\tvalidation_0-rmse:0.09754\n",
      "[97]\tvalidation_0-rmse:0.09752\n",
      "[98]\tvalidation_0-rmse:0.09750\n",
      "[99]\tvalidation_0-rmse:0.09748\n"
     ]
    },
    {
     "data": {
      "text/html": [
       "<style>#sk-container-id-1 {color: black;background-color: white;}#sk-container-id-1 pre{padding: 0;}#sk-container-id-1 div.sk-toggleable {background-color: white;}#sk-container-id-1 label.sk-toggleable__label {cursor: pointer;display: block;width: 100%;margin-bottom: 0;padding: 0.3em;box-sizing: border-box;text-align: center;}#sk-container-id-1 label.sk-toggleable__label-arrow:before {content: \"▸\";float: left;margin-right: 0.25em;color: #696969;}#sk-container-id-1 label.sk-toggleable__label-arrow:hover:before {color: black;}#sk-container-id-1 div.sk-estimator:hover label.sk-toggleable__label-arrow:before {color: black;}#sk-container-id-1 div.sk-toggleable__content {max-height: 0;max-width: 0;overflow: hidden;text-align: left;background-color: #f0f8ff;}#sk-container-id-1 div.sk-toggleable__content pre {margin: 0.2em;color: black;border-radius: 0.25em;background-color: #f0f8ff;}#sk-container-id-1 input.sk-toggleable__control:checked~div.sk-toggleable__content {max-height: 200px;max-width: 100%;overflow: auto;}#sk-container-id-1 input.sk-toggleable__control:checked~label.sk-toggleable__label-arrow:before {content: \"▾\";}#sk-container-id-1 div.sk-estimator input.sk-toggleable__control:checked~label.sk-toggleable__label {background-color: #d4ebff;}#sk-container-id-1 div.sk-label input.sk-toggleable__control:checked~label.sk-toggleable__label {background-color: #d4ebff;}#sk-container-id-1 input.sk-hidden--visually {border: 0;clip: rect(1px 1px 1px 1px);clip: rect(1px, 1px, 1px, 1px);height: 1px;margin: -1px;overflow: hidden;padding: 0;position: absolute;width: 1px;}#sk-container-id-1 div.sk-estimator {font-family: monospace;background-color: #f0f8ff;border: 1px dotted black;border-radius: 0.25em;box-sizing: border-box;margin-bottom: 0.5em;}#sk-container-id-1 div.sk-estimator:hover {background-color: #d4ebff;}#sk-container-id-1 div.sk-parallel-item::after {content: \"\";width: 100%;border-bottom: 1px solid gray;flex-grow: 1;}#sk-container-id-1 div.sk-label:hover label.sk-toggleable__label {background-color: #d4ebff;}#sk-container-id-1 div.sk-serial::before {content: \"\";position: absolute;border-left: 1px solid gray;box-sizing: border-box;top: 0;bottom: 0;left: 50%;z-index: 0;}#sk-container-id-1 div.sk-serial {display: flex;flex-direction: column;align-items: center;background-color: white;padding-right: 0.2em;padding-left: 0.2em;position: relative;}#sk-container-id-1 div.sk-item {position: relative;z-index: 1;}#sk-container-id-1 div.sk-parallel {display: flex;align-items: stretch;justify-content: center;background-color: white;position: relative;}#sk-container-id-1 div.sk-item::before, #sk-container-id-1 div.sk-parallel-item::before {content: \"\";position: absolute;border-left: 1px solid gray;box-sizing: border-box;top: 0;bottom: 0;left: 50%;z-index: -1;}#sk-container-id-1 div.sk-parallel-item {display: flex;flex-direction: column;z-index: 1;position: relative;background-color: white;}#sk-container-id-1 div.sk-parallel-item:first-child::after {align-self: flex-end;width: 50%;}#sk-container-id-1 div.sk-parallel-item:last-child::after {align-self: flex-start;width: 50%;}#sk-container-id-1 div.sk-parallel-item:only-child::after {width: 0;}#sk-container-id-1 div.sk-dashed-wrapped {border: 1px dashed gray;margin: 0 0.4em 0.5em 0.4em;box-sizing: border-box;padding-bottom: 0.4em;background-color: white;}#sk-container-id-1 div.sk-label label {font-family: monospace;font-weight: bold;display: inline-block;line-height: 1.2em;}#sk-container-id-1 div.sk-label-container {text-align: center;}#sk-container-id-1 div.sk-container {/* jupyter's `normalize.less` sets `[hidden] { display: none; }` but bootstrap.min.css set `[hidden] { display: none !important; }` so we also need the `!important` here to be able to override the default hidden behavior on the sphinx rendered scikit-learn.org. See: https://github.com/scikit-learn/scikit-learn/issues/21755 */display: inline-block !important;position: relative;}#sk-container-id-1 div.sk-text-repr-fallback {display: none;}</style><div id=\"sk-container-id-1\" class=\"sk-top-container\"><div class=\"sk-text-repr-fallback\"><pre>XGBRegressor(base_score=None, booster=None, callbacks=None,\n",
       "             colsample_bylevel=None, colsample_bynode=None,\n",
       "             colsample_bytree=None, device=None, early_stopping_rounds=None,\n",
       "             enable_categorical=True, eval_metric=None, feature_types=None,\n",
       "             gamma=None, grow_policy=None, importance_type=None,\n",
       "             interaction_constraints=None, learning_rate=None, max_bin=None,\n",
       "             max_cat_threshold=None, max_cat_to_onehot=None,\n",
       "             max_delta_step=None, max_depth=None, max_leaves=None,\n",
       "             min_child_weight=None, missing=nan, monotone_constraints=None,\n",
       "             multi_strategy=None, n_estimators=None, n_jobs=None,\n",
       "             num_parallel_tree=None, random_state=None, ...)</pre><b>In a Jupyter environment, please rerun this cell to show the HTML representation or trust the notebook. <br />On GitHub, the HTML representation is unable to render, please try loading this page with nbviewer.org.</b></div><div class=\"sk-container\" hidden><div class=\"sk-item\"><div class=\"sk-estimator sk-toggleable\"><input class=\"sk-toggleable__control sk-hidden--visually\" id=\"sk-estimator-id-1\" type=\"checkbox\" checked><label for=\"sk-estimator-id-1\" class=\"sk-toggleable__label sk-toggleable__label-arrow\">XGBRegressor</label><div class=\"sk-toggleable__content\"><pre>XGBRegressor(base_score=None, booster=None, callbacks=None,\n",
       "             colsample_bylevel=None, colsample_bynode=None,\n",
       "             colsample_bytree=None, device=None, early_stopping_rounds=None,\n",
       "             enable_categorical=True, eval_metric=None, feature_types=None,\n",
       "             gamma=None, grow_policy=None, importance_type=None,\n",
       "             interaction_constraints=None, learning_rate=None, max_bin=None,\n",
       "             max_cat_threshold=None, max_cat_to_onehot=None,\n",
       "             max_delta_step=None, max_depth=None, max_leaves=None,\n",
       "             min_child_weight=None, missing=nan, monotone_constraints=None,\n",
       "             multi_strategy=None, n_estimators=None, n_jobs=None,\n",
       "             num_parallel_tree=None, random_state=None, ...)</pre></div></div></div></div></div>"
      ],
      "text/plain": [
       "XGBRegressor(base_score=None, booster=None, callbacks=None,\n",
       "             colsample_bylevel=None, colsample_bynode=None,\n",
       "             colsample_bytree=None, device=None, early_stopping_rounds=None,\n",
       "             enable_categorical=True, eval_metric=None, feature_types=None,\n",
       "             gamma=None, grow_policy=None, importance_type=None,\n",
       "             interaction_constraints=None, learning_rate=None, max_bin=None,\n",
       "             max_cat_threshold=None, max_cat_to_onehot=None,\n",
       "             max_delta_step=None, max_depth=None, max_leaves=None,\n",
       "             min_child_weight=None, missing=nan, monotone_constraints=None,\n",
       "             multi_strategy=None, n_estimators=None, n_jobs=None,\n",
       "             num_parallel_tree=None, random_state=None, ...)"
      ]
     },
     "execution_count": 10,
     "metadata": {},
     "output_type": "execute_result"
    }
   ],
   "source": [
    "model = XGBRegressor( verbosity = 1,\n",
    "                     enable_categorical = True,\n",
    "                     missing=np.nan\n",
    ")\n",
    "model.fit(X_train,y_train, eval_set = [(X_test,y_test)])"
   ]
  },
  {
   "cell_type": "code",
   "execution_count": 11,
   "id": "b4702ac2",
   "metadata": {
    "execution": {
     "iopub.execute_input": "2025-01-19T19:25:06.118472Z",
     "iopub.status.busy": "2025-01-19T19:25:06.118097Z",
     "iopub.status.idle": "2025-01-19T19:25:06.121947Z",
     "shell.execute_reply": "2025-01-19T19:25:06.120972Z"
    },
    "papermill": {
     "duration": 0.016267,
     "end_time": "2025-01-19T19:25:06.123602",
     "exception": false,
     "start_time": "2025-01-19T19:25:06.107335",
     "status": "completed"
    },
    "tags": []
   },
   "outputs": [],
   "source": [
    "#predict = model.predict(X_test)\n",
    "#mape = mean_absolute_percentage_error(np.expm1(predict), np.expm1(y_test))\n",
    "#mape"
   ]
  },
  {
   "cell_type": "code",
   "execution_count": 12,
   "id": "66d988c5",
   "metadata": {
    "execution": {
     "iopub.execute_input": "2025-01-19T19:25:06.143683Z",
     "iopub.status.busy": "2025-01-19T19:25:06.143285Z",
     "iopub.status.idle": "2025-01-19T19:25:06.326794Z",
     "shell.execute_reply": "2025-01-19T19:25:06.325920Z"
    },
    "papermill": {
     "duration": 0.199404,
     "end_time": "2025-01-19T19:25:06.332650",
     "exception": false,
     "start_time": "2025-01-19T19:25:06.133246",
     "status": "completed"
    },
    "tags": []
   },
   "outputs": [],
   "source": [
    "yhat = model.predict(test)"
   ]
  },
  {
   "cell_type": "code",
   "execution_count": 13,
   "id": "7fecf58b",
   "metadata": {
    "execution": {
     "iopub.execute_input": "2025-01-19T19:25:06.355451Z",
     "iopub.status.busy": "2025-01-19T19:25:06.354938Z",
     "iopub.status.idle": "2025-01-19T19:25:06.365199Z",
     "shell.execute_reply": "2025-01-19T19:25:06.364341Z"
    },
    "papermill": {
     "duration": 0.022466,
     "end_time": "2025-01-19T19:25:06.367005",
     "exception": false,
     "start_time": "2025-01-19T19:25:06.344539",
     "status": "completed"
    },
    "tags": []
   },
   "outputs": [],
   "source": [
    "sub['num_sold'] = np.expm1(yhat)"
   ]
  },
  {
   "cell_type": "code",
   "execution_count": 14,
   "id": "45e9ee0f",
   "metadata": {
    "execution": {
     "iopub.execute_input": "2025-01-19T19:25:06.387443Z",
     "iopub.status.busy": "2025-01-19T19:25:06.387054Z",
     "iopub.status.idle": "2025-01-19T19:25:06.543324Z",
     "shell.execute_reply": "2025-01-19T19:25:06.542224Z"
    },
    "papermill": {
     "duration": 0.168952,
     "end_time": "2025-01-19T19:25:06.545700",
     "exception": false,
     "start_time": "2025-01-19T19:25:06.376748",
     "status": "completed"
    },
    "tags": []
   },
   "outputs": [],
   "source": [
    "sub.to_csv('submission.csv', index=False)"
   ]
  },
  {
   "cell_type": "code",
   "execution_count": null,
   "id": "c1f71666",
   "metadata": {
    "papermill": {
     "duration": 0.009292,
     "end_time": "2025-01-19T19:25:06.564920",
     "exception": false,
     "start_time": "2025-01-19T19:25:06.555628",
     "status": "completed"
    },
    "tags": []
   },
   "outputs": [],
   "source": []
  }
 ],
 "metadata": {
  "kaggle": {
   "accelerator": "none",
   "dataSources": [
    {
     "databundleVersionId": 10652996,
     "sourceId": 85723,
     "sourceType": "competition"
    }
   ],
   "dockerImageVersionId": 30839,
   "isGpuEnabled": false,
   "isInternetEnabled": true,
   "language": "python",
   "sourceType": "notebook"
  },
  "kernelspec": {
   "display_name": "Python 3",
   "language": "python",
   "name": "python3"
  },
  "language_info": {
   "codemirror_mode": {
    "name": "ipython",
    "version": 3
   },
   "file_extension": ".py",
   "mimetype": "text/x-python",
   "name": "python",
   "nbconvert_exporter": "python",
   "pygments_lexer": "ipython3",
   "version": "3.10.12"
  },
  "papermill": {
   "default_parameters": {},
   "duration": 9.603115,
   "end_time": "2025-01-19T19:25:07.294726",
   "environment_variables": {},
   "exception": null,
   "input_path": "__notebook__.ipynb",
   "output_path": "__notebook__.ipynb",
   "parameters": {},
   "start_time": "2025-01-19T19:24:57.691611",
   "version": "2.6.0"
  }
 },
 "nbformat": 4,
 "nbformat_minor": 5
}
